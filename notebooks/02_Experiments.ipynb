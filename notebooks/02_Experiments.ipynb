{
 "cells": [
  {
   "cell_type": "code",
   "execution_count": 1,
   "id": "a486f494",
   "metadata": {},
   "outputs": [],
   "source": [
    "import sys\n",
    "import os"
   ]
  },
  {
   "cell_type": "code",
   "execution_count": 2,
   "id": "4ddbdbcc",
   "metadata": {},
   "outputs": [
    {
     "name": "stdout",
     "output_type": "stream",
     "text": [
      "Zbudowano początkowe TID-listy. Liczba częstych pojedynczych literałów: 70\n",
      "Algorytm Eclat zakończył działanie.\n",
      "\n",
      "--- Próbka TID-list ---\n",
      "Item: ('9', '+'), Liczba transakcji: 1372\n",
      "Item: ('19', '+'), Liczba transakcji: 1005\n",
      "Item: ('31', '+'), Liczba transakcji: 920\n",
      "Item: ('32', '+'), Liczba transakcji: 15167\n",
      "Item: ('36', '+'), Liczba transakcji: 2936\n",
      "\n",
      "--- Próbka częstych zbiorów (pojedynczych) ---\n",
      "{frozenset({('9', '+')}): 1372, frozenset({('19', '+')}): 1005, frozenset({('31', '+')}): 920, frozenset({('32', '+')}): 15167, frozenset({('36', '+')}): 2936}\n"
     ]
    }
   ],
   "source": [
    "module_path = os.path.abspath(os.path.join('..'))\n",
    "if module_path not in sys.path:\n",
    "    sys.path.append(module_path)\n",
    "\n",
    "from src.eclat import Eclat\n",
    "\n",
    "# --- Wczytanie danych (kopiujemy kod z notatnika EDA) ---\n",
    "data_path = '../data/retail.dat'\n",
    "transactions = []\n",
    "with open(data_path, 'r') as f:\n",
    "    for line in f:\n",
    "        transactions.append(line.strip().split())\n",
    "\n",
    "# --- Testowanie naszej implementacji ---\n",
    "# Ustawmy min_support na 1%\n",
    "min_support_value = 0.01\n",
    "\n",
    "# Tworzymy instancję naszej klasy\n",
    "eclat_classic = Eclat(min_support=min_support_value, use_negation=False)\n",
    "\n",
    "# Uruchamiamy metodę fit, która na razie powinna tylko zbudować TID-listy\n",
    "eclat_classic.fit(transactions)\n",
    "\n",
    "# Sprawdźmy, co jest w środku (do celów deweloperskich)\n",
    "print(\"\\n--- Próbka TID-list ---\")\n",
    "# Wyświetlmy 5 pierwszych par (item, tid_list_length)\n",
    "for i, (item, tids) in enumerate(eclat_classic.tid_lists.items()):\n",
    "    if i >= 5:\n",
    "        break\n",
    "    print(f\"Item: {item}, Liczba transakcji: {len(tids)}\")\n",
    "\n",
    "print(\"\\n--- Próbka częstych zbiorów (pojedynczych) ---\")\n",
    "print(dict(list(eclat_classic.frequent_itemsets.items())[:5]))"
   ]
  },
  {
   "cell_type": "code",
   "execution_count": 3,
   "id": "54028154",
   "metadata": {},
   "outputs": [
    {
     "name": "stdout",
     "output_type": "stream",
     "text": [
      "Zbudowano początkowe TID-listy. Liczba częstych pojedynczych literałów: 6\n",
      "Algorytm Eclat zakończył działanie.\n",
      "\n",
      "Znaleziono łącznie 16 częstych zbiorów.\n",
      "\n",
      "--- Próbka częstych zbiorów o rozmiarze > 1 ---\n",
      "{frozenset({('32', '+'), ('39', '+')}): 8455, frozenset({('32', '+'), ('48', '+')}): 8034, frozenset({('39', '+'), ('38', '+')}): 10345, frozenset({('48', '+'), ('38', '+')}): 7944, frozenset({('39', '+'), ('41', '+')}): 11414, frozenset({('48', '+'), ('39', '+')}): 29142, frozenset({('48', '+'), ('41', '+')}): 9018, frozenset({('32', '+'), ('39', '+'), ('48', '+')}): 5402, frozenset({('48', '+'), ('39', '+'), ('38', '+')}): 6102, frozenset({('48', '+'), ('39', '+'), ('41', '+')}): 7366}\n"
     ]
    }
   ],
   "source": [
    "# --- Testowanie pełnej implementacji ---\n",
    "min_support_value = 0.05 # 5%\n",
    "\n",
    "eclat_classic = Eclat(min_support=min_support_value, use_negation=False)\n",
    "eclat_classic.fit(transactions)\n",
    "\n",
    "# Sprawdźmy, ile wszystkich częstych zbiorów znaleziono\n",
    "all_frequent = eclat_classic.transform()\n",
    "print(f\"\\nZnaleziono łącznie {len(all_frequent)} częstych zbiorów.\")\n",
    "\n",
    "# Wyświetlmy kilka przykładowych zbiorów o rozmiarze > 1\n",
    "frequent_larger_than_1 = {\n",
    "    itemset: count \n",
    "    for itemset, count in all_frequent.items() \n",
    "    if len(itemset) > 1\n",
    "}\n",
    "\n",
    "print(\"\\n--- Próbka częstych zbiorów o rozmiarze > 1 ---\")\n",
    "print(dict(list(frequent_larger_than_1.items())[:10]))"
   ]
  },
  {
   "cell_type": "code",
   "execution_count": 5,
   "id": "9d07f627",
   "metadata": {},
   "outputs": [
    {
     "name": "stdout",
     "output_type": "stream",
     "text": [
      "Zbudowano początkowe TID-listy. Liczba częstych pojedynczych literałów: 12\n",
      "Algorytm Eclat zakończył działanie.\n",
      "\n",
      "--- Znalezione częste literały (z negacją) ---\n",
      "dict_keys([('32', '+'), ('38', '+'), ('39', '+'), ('41', '+'), ('48', '+'), ('65', '+'), ('32', '-'), ('38', '-'), ('39', '-'), ('41', '-'), ('48', '-'), ('65', '-')])\n"
     ]
    }
   ],
   "source": [
    "# --- Testowanie implementacji z NEGACJĄ ---\n",
    "\n",
    "# UWAGA: Jak przewidzieliśmy w EDA, literały negowane mają bardzo wysokie wsparcie.\n",
    "# Aby nie zalać systemu, zacznijmy od bardzo wysokiego progu min_support,\n",
    "# np. 95%, żeby zobaczyć tylko \"najbardziej niekupowane\" produkty.\n",
    "min_support_negation = 0.05\n",
    "\n",
    "# Tworzymy nową instancję z włączoną negacją\n",
    "eclat_negation = Eclat(min_support=min_support_negation, use_negation=True)\n",
    "eclat_negation.fit(transactions)\n",
    "\n",
    "print(\"\\n--- Znalezione częste literały (z negacją) ---\")\n",
    "# Wyświetlmy wszystkie, bo nie powinno być ich dużo\n",
    "print(eclat_negation.tid_lists.keys())"
   ]
  }
 ],
 "metadata": {
  "kernelspec": {
   "display_name": "med_project",
   "language": "python",
   "name": "python3"
  },
  "language_info": {
   "codemirror_mode": {
    "name": "ipython",
    "version": 3
   },
   "file_extension": ".py",
   "mimetype": "text/x-python",
   "name": "python",
   "nbconvert_exporter": "python",
   "pygments_lexer": "ipython3",
   "version": "3.10.18"
  }
 },
 "nbformat": 4,
 "nbformat_minor": 5
}
